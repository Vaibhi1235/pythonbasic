{
 "cells": [
  {
   "cell_type": "code",
   "execution_count": 1,
   "metadata": {},
   "outputs": [
    {
     "name": "stdout",
     "output_type": "stream",
     "text": [
      "['My', 'name', 'is', 'Kelly']\n"
     ]
    }
   ],
   "source": [
    "def add_lists_index_wise(list1, list2):\n",
    "    # Find the length of the longer list\n",
    "    max_length = max(len(list1), len(list2))\n",
    "    \n",
    "    # Initialize the result list\n",
    "    result = []\n",
    "    \n",
    "    # Iterate through the indexes of the longest list\n",
    "    for i in range(max_length):\n",
    "        # Initialize an empty string to accumulate the characters\n",
    "        combined = \"\"\n",
    "        \n",
    "        # Add element from list1 if index exists\n",
    "        if i < len(list1):\n",
    "            combined += list1[i]\n",
    "        \n",
    "        # Add element from list2 if index exists\n",
    "        if i < len(list2):\n",
    "            combined += list2[i]\n",
    "        \n",
    "        # Append the combined result to the result list\n",
    "        result.append(combined)\n",
    "    \n",
    "    return result\n",
    "\n",
    "# Given lists\n",
    "list1 = [\"M\", \"na\", \"i\", \"Ke\"]\n",
    "list2 = [\"y\", \"me\", \"s\", \"lly\"]\n",
    "\n",
    "# Call the function and print the result\n",
    "result_list = add_lists_index_wise(list1, list2)\n",
    "print(result_list)"
   ]
  },
  {
   "cell_type": "code",
   "execution_count": 7,
   "metadata": {},
   "outputs": [
    {
     "name": "stdout",
     "output_type": "stream",
     "text": [
      "{10, 80, 20, 90, 30}\n"
     ]
    }
   ],
   "source": [
    " set1 = {10, 20, 30, 40, 50,60,70}                 \n",
    "set2 = {40, 50, 60, 70,80,90}\n",
    "result=set1.symmetric_difference(set2)\n",
    "print(result)"
   ]
  },
  {
   "cell_type": "markdown",
   "metadata": {},
   "source": [
    "WAP to Ask users to enter age, gender (M or F), marital status (Y or N) and then using following rules print their place of service.\n",
    "\n",
    "If the employee is female, then she will work only in urban areas.\n",
    "\n",
    "If employee is a male and age is in between 20 to 40 then he may work in anywhere\n",
    "\n",
    "If the employee is male and age is between 40 to 60 then he will work in urban areas only.\n",
    "\n",
    "And any other input of age should print \"ERROR\"."
   ]
  },
  {
   "cell_type": "code",
   "execution_count": 16,
   "metadata": {},
   "outputs": [
    {
     "name": "stdout",
     "output_type": "stream",
     "text": [
      "value is sum of 46 is 146\n"
     ]
    }
   ],
   "source": [
    "x=int(input())\n",
    "if x<100:\n",
    "    print(f\"value is sum of {x} is\" , x+100)\n",
    "elif x==100:\n",
    "    print(f\"vale of {x} is square is\",x**2)\n",
    "else:\n",
    "    print(\"none\")\n"
   ]
  },
  {
   "cell_type": "code",
   "execution_count": 34,
   "metadata": {},
   "outputs": [
    {
     "name": "stdout",
     "output_type": "stream",
     "text": [
      "5 rs per unit will charge for 170 is  350\n"
     ]
    }
   ],
   "source": [
    "light_bill=int(input())\n",
    "if light_bill==100:\n",
    "    print(f\"no charge for {light_bill}\")\n",
    "elif light_bill >100 and light_bill <=200:\n",
    "    print(f\"5 rs per unit will charge for {light_bill} is \",(light_bill-100)*5)\n",
    "elif light_bill>200:\n",
    "    print(f\"10 rs per unit will charge for {light_bill} is\", light_bill*10)\n"
   ]
  },
  {
   "cell_type": "code",
   "execution_count": 31,
   "metadata": {},
   "outputs": [
    {
     "name": "stdout",
     "output_type": "stream",
     "text": [
      "number is even 20\n"
     ]
    }
   ],
   "source": [
    "z=int(input())\n",
    "if z%2==0:\n",
    "    print(f\"number is even {z}\")\n",
    "else:\n",
    "    print(f\"number is odd {z}\")"
   ]
  },
  {
   "cell_type": "code",
   "execution_count": 28,
   "metadata": {},
   "outputs": [
    {
     "name": "stdout",
     "output_type": "stream",
     "text": [
      "hello\n"
     ]
    }
   ],
   "source": [
    "y=int(input())\n",
    "if y%5==0:\n",
    "    print(\"hello\")\n",
    "else:\n",
    "    print(\"bye\")"
   ]
  },
  {
   "cell_type": "code",
   "execution_count": 32,
   "metadata": {},
   "outputs": [
    {
     "name": "stdout",
     "output_type": "stream",
     "text": [
      "last no of 10 is  {10}\n"
     ]
    }
   ],
   "source": [
    "c=int(input())\n",
    "if c%10==0:\n",
    "    print(f\"last no of {c} is \",{c})\n",
    "else:\n",
    "    print(\"no\")"
   ]
  },
  {
   "cell_type": "code",
   "execution_count": 38,
   "metadata": {},
   "outputs": [
    {
     "name": "stdout",
     "output_type": "stream",
     "text": [
      "grade is student for 80 is C\n"
     ]
    }
   ],
   "source": [
    "grade=int(input())\n",
    "if grade>90:\n",
    "    print(f'grade is student for {grade} is A')\n",
    "elif grade >80 and grade<=90:\n",
    "    print(f'grade is student for {grade} is B ')\n",
    "elif grade >=60 and grade<=80:\n",
    "    print(f'grade is student for {grade} is C')\n",
    "else:\n",
    "    print(f'grade is student for {grade} is D')\n",
    "\n"
   ]
  },
  {
   "cell_type": "code",
   "execution_count": 40,
   "metadata": {},
   "outputs": [
    {
     "name": "stdout",
     "output_type": "stream",
     "text": [
      "115000.0\n"
     ]
    }
   ],
   "source": [
    "cost=(100000*0.15)+(100000)\n",
    "print(cost)"
   ]
  },
  {
   "cell_type": "code",
   "execution_count": 41,
   "metadata": {},
   "outputs": [
    {
     "name": "stdout",
     "output_type": "stream",
     "text": [
      "total cost of bike is 230000.0\n"
     ]
    }
   ],
   "source": [
    "cost_bike=int(input())\n",
    "if cost_bike>100000:\n",
    "    tax1=(cost_bike*0.15)+(cost_bike)\n",
    "    print(f'total cost of bike is {tax1}')\n",
    "elif cost_bike>50000 and cost_bike<100000:\n",
    "    tax2=(cost_bike*0.10)+(cost_bike)\n",
    "    print(f'total cost of bike is {tax2}')\n",
    "else:\n",
    "    tax3=(cost_bike*0.05)+(cost_bike)\n",
    "    print(f'total cost of bike is {tax3}')\n",
    "\n"
   ]
  },
  {
   "cell_type": "code",
   "execution_count": 44,
   "metadata": {},
   "outputs": [
    {
     "name": "stdout",
     "output_type": "stream",
     "text": [
      "not applicable\n"
     ]
    }
   ],
   "source": [
    "city=input()\n",
    "if city==\"delhi\":\n",
    "    print(f\"monument of the city {city} is red fort\")\n",
    "elif city==\"agra\":\n",
    "    print(f\"monument of the city {city} is taj mahal\")\n",
    "elif city==\"jaipur\":\n",
    "    print(f\"monument of the city {city} is jal mahal\")\n",
    "else:\n",
    "    print(\"not applicable\")\n",
    "\n"
   ]
  },
  {
   "cell_type": "code",
   "execution_count": 48,
   "metadata": {},
   "outputs": [
    {
     "name": "stdout",
     "output_type": "stream",
     "text": [
      "person is not eligible for vote\n"
     ]
    }
   ],
   "source": [
    "vote_age=int(input())\n",
    "if vote_age>=18:\n",
    "    print('person is eligible for vote')\n",
    "else:\n",
    "    print('person is not eligible for vote')"
   ]
  },
  {
   "cell_type": "code",
   "execution_count": 49,
   "metadata": {},
   "outputs": [
    {
     "name": "stdout",
     "output_type": "stream",
     "text": [
      "person is not senior citizen\n"
     ]
    }
   ],
   "source": [
    "senior_citizen=int(input())\n",
    "if senior_citizen>=60:\n",
    "    print('person is senior citizen')\n",
    "else:\n",
    "    print('person is not senior citizen')"
   ]
  },
  {
   "cell_type": "code",
   "execution_count": 50,
   "metadata": {},
   "outputs": [
    {
     "name": "stdout",
     "output_type": "stream",
     "text": [
      "student will sit for exam\n"
     ]
    }
   ],
   "source": [
    "number_of_days=int(input())\n",
    "number_of_absent_days=int(input())\n",
    "per=(number_of_days-number_of_absent_days)/number_of_days*100\n",
    "if per<75:\n",
    "    print('student will not able to sit in exam')\n",
    "else:\n",
    "    print('student will sit for exam')"
   ]
  },
  {
   "cell_type": "code",
   "execution_count": 61,
   "metadata": {},
   "outputs": [
    {
     "name": "stdout",
     "output_type": "stream",
     "text": [
      "grade will be for89is A+\n"
     ]
    }
   ],
   "source": [
    "perc=int(input())\n",
    "if perc <25:\n",
    "    print(f'grade will be for{perc} is D')\n",
    "elif perc>25 and perc <45:\n",
    "    print(f'grade will be for{perc} is C' )\n",
    "elif perc>45 and perc <50:\n",
    "    print(f'grade will be for{perc} is B')\n",
    "elif perc>50 and perc <60:\n",
    "    print(f'grade will be for{perc} is B+')\n",
    "elif perc>60 and perc <80:\n",
    "    print(f'grade will be for{perc} is A')\n",
    "else:\n",
    "    print(f'grade will be for{perc}is A+')"
   ]
  },
  {
   "cell_type": "code",
   "execution_count": 63,
   "metadata": {},
   "outputs": [
    {
     "name": "stdout",
     "output_type": "stream",
     "text": [
      "net salary after bonus for 16 is 33000.0\n"
     ]
    }
   ],
   "source": [
    "salary=int(input())\n",
    "service=int(input())\n",
    "if service>10:\n",
    "    bonus1=salary*0.10+salary\n",
    "    print(f'net salary after bonus for {service} is', bonus1)\n",
    "elif service>=6 and service <=10:\n",
    "    bonus2=salary*0.08+salary\n",
    "    print(f'net salary after bonus for {service} is',bonus2)\n",
    "elif service <6:\n",
    "    bonus3:salary*0.05+salary\n",
    "    print(f'net salary after bonus for {service} is ',bonus3)"
   ]
  },
  {
   "cell_type": "code",
   "execution_count": 69,
   "metadata": {},
   "outputs": [
    {
     "name": "stdout",
     "output_type": "stream",
     "text": [
      "net amount as to pay 9600.0\n",
      "9600.0\n"
     ]
    }
   ],
   "source": [
    "marked_price=int(input())\n",
    "if marked_price>10000:\n",
    "    net1=(marked_price)-(marked_price*0.20)\n",
    "    print(f'net amount as to pay {net1}')\n",
    "elif marked_price >7000 and marked_price <=10000:\n",
    "    net2=(marked_price)-(marked_price*0.15)\n",
    "    print(f'net amount as to pay {net2}')\n",
    "else:\n",
    "    net3=(marked_price)-(marked_price*0.10)\n",
    "    print(f'net amount as to pay {net3}')\n",
    "print(net1)"
   ]
  },
  {
   "cell_type": "code",
   "execution_count": null,
   "metadata": {},
   "outputs": [],
   "source": [
    "age=int(input())\n",
    "sex=input()\n",
    "nd=int(input())\n",
    "if age>=18 and age <30 and sex==\"m\":\n",
    "    wages=nd*\n"
   ]
  }
 ],
 "metadata": {
  "kernelspec": {
   "display_name": "base",
   "language": "python",
   "name": "python3"
  },
  "language_info": {
   "codemirror_mode": {
    "name": "ipython",
    "version": 3
   },
   "file_extension": ".py",
   "mimetype": "text/x-python",
   "name": "python",
   "nbconvert_exporter": "python",
   "pygments_lexer": "ipython3",
   "version": "3.11.7"
  }
 },
 "nbformat": 4,
 "nbformat_minor": 2
}
