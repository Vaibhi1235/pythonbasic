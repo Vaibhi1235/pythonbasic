{
 "cells": [
  {
   "cell_type": "code",
   "execution_count": 24,
   "metadata": {},
   "outputs": [
    {
     "name": "stdout",
     "output_type": "stream",
     "text": [
      "weird\n"
     ]
    }
   ],
   "source": [
    "n=int(input())\n",
    "if n%2 !=0:\n",
    "    print('weird')\n",
    "elif n%2==0 and n >=2 and n <=5:\n",
    "    print('not weird')\n",
    "elif n%2==0 and n >=6 and n <=20:\n",
    "    print('weird')\n",
    "else:\n",
    "    print('not weird')"
   ]
  }
 ],
 "metadata": {
  "kernelspec": {
   "display_name": "base",
   "language": "python",
   "name": "python3"
  },
  "language_info": {
   "codemirror_mode": {
    "name": "ipython",
    "version": 3
   },
   "file_extension": ".py",
   "mimetype": "text/x-python",
   "name": "python",
   "nbconvert_exporter": "python",
   "pygments_lexer": "ipython3",
   "version": "3.11.7"
  }
 },
 "nbformat": 4,
 "nbformat_minor": 2
}
