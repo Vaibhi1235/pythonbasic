{
 "cells": [
  {
   "cell_type": "code",
   "execution_count": 16,
   "metadata": {},
   "outputs": [
    {
     "name": "stdout",
     "output_type": "stream",
     "text": [
      "(11, 22, [33, 444, 55], 66, 77)\n"
     ]
    }
   ],
   "source": [
    "tuple1=(11,22,[33,44,55],66,77)\n",
    "tuple=tuple1[2][1]=444\n",
    "print(tuple1)"
   ]
  },
  {
   "cell_type": "code",
   "execution_count": 56,
   "metadata": {},
   "outputs": [
    {
     "name": "stdout",
     "output_type": "stream",
     "text": [
      "[12, 16, 18, 202, 3034, 9049, 23]\n"
     ]
    }
   ],
   "source": [
    "vaib=[12,16,18,202,3034,9049]\n",
    "vaib[2]*2\n",
    "len(vaib)\n",
    "vaib.append(23)\n",
    "print(vaib)"
   ]
  },
  {
   "cell_type": "code",
   "execution_count": 63,
   "metadata": {},
   "outputs": [],
   "source": [
    "import random"
   ]
  },
  {
   "cell_type": "code",
   "execution_count": 65,
   "metadata": {},
   "outputs": [
    {
     "name": "stdout",
     "output_type": "stream",
     "text": [
      "['cherry', 'apple', 'papaya', 'banana']\n"
     ]
    }
   ],
   "source": [
    "fruit=['apple', 'banana', 'papaya', 'cherry']\n",
    "random.shuffle(fruit)\n",
    "print(fruit)"
   ]
  },
  {
   "cell_type": "code",
   "execution_count": 67,
   "metadata": {},
   "outputs": [
    {
     "data": {
      "text/plain": [
       "{'Ten': 10, 'Twenty': 20, 'Thirty': 30}"
      ]
     },
     "execution_count": 67,
     "metadata": {},
     "output_type": "execute_result"
    }
   ],
   "source": [
    "keys = ['Ten', 'Twenty', 'Thirty']\n",
    "values = [10, 20, 30]\n",
    "dict(zip(keys,values))"
   ]
  },
  {
   "cell_type": "code",
   "execution_count": 75,
   "metadata": {},
   "outputs": [
    {
     "name": "stdout",
     "output_type": "stream",
     "text": [
      "{'Ten': 10, 'Twenty': 20, 'Thirty': 30, 'Fourty': 40, 'Fifty': 50}\n"
     ]
    }
   ],
   "source": [
    "dict1 = {'Ten': 10, 'Twenty': 20, 'Thirty': 30}\n",
    "dict2 = {'Thirty': 30, 'Fourty': 40, 'Fifty': 50}\n",
    "dict3={**dict1, **dict2}\n",
    "print(dict3)"
   ]
  },
  {
   "cell_type": "code",
   "execution_count": 78,
   "metadata": {},
   "outputs": [
    {
     "data": {
      "text/plain": [
       "{'Kelly': 'designation', 'Emma': 'salary'}"
      ]
     },
     "execution_count": 78,
     "metadata": {},
     "output_type": "execute_result"
    }
   ],
   "source": [
    "employees = ['Kelly', 'Emma']\n",
    "defaults = {\"designation\": 'Developer', \"salary\": 8000}\n",
    "dict(zip(employees,defaults))"
   ]
  },
  {
   "cell_type": "code",
   "execution_count": 104,
   "metadata": {},
   "outputs": [
    {
     "name": "stdout",
     "output_type": "stream",
     "text": [
      "Dip\n"
     ]
    }
   ],
   "source": [
    "str1 = \"JhonDipPeta\"\n",
    "str3=str1[4:7]\n",
    "print(str3)"
   ]
  },
  {
   "cell_type": "code",
   "execution_count": 109,
   "metadata": {},
   "outputs": [
    {
     "name": "stdout",
     "output_type": "stream",
     "text": [
      "Son\n"
     ]
    }
   ],
   "source": [
    "str2 = \"JaSonAy\"\n",
    "str4=str2[2:5]\n",
    "print(str4)"
   ]
  },
  {
   "cell_type": "code",
   "execution_count": 124,
   "metadata": {},
   "outputs": [
    {
     "name": "stdout",
     "output_type": "stream",
     "text": [
      "2\n",
      "AuKellylt\n"
     ]
    }
   ],
   "source": [
    "s1 = \"Ault\"\n",
    "s2 = \"Kelly\"\n",
    "s3=int(len(s1)/2)\n",
    "print(s3)\n",
    "s4=s1[:s3:]\n",
    "s4=s4+s2\n",
    "s4=s4+s1[s3::]\n",
    "print(s4)"
   ]
  },
  {
   "cell_type": "code",
   "execution_count": 127,
   "metadata": {},
   "outputs": [
    {
     "name": "stdout",
     "output_type": "stream",
     "text": [
      "lt\n"
     ]
    }
   ],
   "source": [
    "s4=s1[s3::]\n",
    "print(s4)"
   ]
  },
  {
   "cell_type": "code",
   "execution_count": 137,
   "metadata": {},
   "outputs": [
    {
     "name": "stdout",
     "output_type": "stream",
     "text": [
      "AJrpan\n"
     ]
    }
   ],
   "source": [
    "s6 = \"America\"\n",
    "s7 = \"Japan\"\n",
    "s8=s6[0]\n",
    "\n",
    "s9=s7[0]\n",
    "s10=s6[3]\n",
    "s11=s7[2]\n",
    "s12=s6[6]\n",
    "s13=s7[4]\n",
    "s14=s8+s9+s10+s11+s12+s13\n",
    "print(s14)"
   ]
  },
  {
   "cell_type": "code",
   "execution_count": 169,
   "metadata": {},
   "outputs": [
    {
     "name": "stdout",
     "output_type": "stream",
     "text": [
      "PNT\n",
      "ya\n",
      "ive\n",
      "yaivePNT\n"
     ]
    }
   ],
   "source": [
    "strg1 = \"PyNaTive\"\n",
    "len(strg1)\n",
    "strg2=strg1[0:5:2]\n",
    "print(strg2)\n",
    "strg3=strg1[1:4:2]\n",
    "print(strg3)\n",
    "strg4=strg1[-3:]\n",
    "print(strg4)\n",
    "print(strg3+strg4+strg2)"
   ]
  },
  {
   "cell_type": "code",
   "execution_count": 182,
   "metadata": {},
   "outputs": [
    {
     "name": "stdout",
     "output_type": "stream",
     "text": [
      "['z', 'c', 'A', 'b', 'X', 'y']\n"
     ]
    }
   ],
   "source": [
    "s1 = \"Abc\"\n",
    "s2 = \"Xyz\"\n",
    "s3=list(s1+s2)\n",
    "random.shuffle(s3)\n",
    "print(s3)"
   ]
  },
  {
   "cell_type": "code",
   "execution_count": 255,
   "metadata": {},
   "outputs": [
    {
     "name": "stdout",
     "output_type": "stream",
     "text": [
      "{1, 3, 4, 5, 17, 93, 98, 38, 'vaibhav'}\n"
     ]
    },
    {
     "ename": "TypeError",
     "evalue": "'int' object is not iterable",
     "output_type": "error",
     "traceback": [
      "\u001b[1;31m---------------------------------------------------------------------------\u001b[0m",
      "\u001b[1;31mTypeError\u001b[0m                                 Traceback (most recent call last)",
      "Cell \u001b[1;32mIn[255], line 8\u001b[0m\n\u001b[0;32m      6\u001b[0m \u001b[38;5;28mprint\u001b[39m(set1)\n\u001b[0;32m      7\u001b[0m set1\u001b[38;5;241m.\u001b[39mremove(\u001b[38;5;241m98\u001b[39m)\n\u001b[1;32m----> 8\u001b[0m \u001b[43mset1\u001b[49m\u001b[38;5;241;43m.\u001b[39;49m\u001b[43munion\u001b[49m\u001b[43m(\u001b[49m\u001b[38;5;241;43m17\u001b[39;49m\u001b[43m)\u001b[49m\n",
      "\u001b[1;31mTypeError\u001b[0m: 'int' object is not iterable"
     ]
    }
   ],
   "source": [
    "set1={1,98,93,17,38,\"vaibhav\"}\n",
    "set1.add(3)\n",
    "type(set1)\n",
    "len(set1)\n",
    "set1.update([1,4,5])\n",
    "print(set1)\n",
    "set1.remove(98)\n",
    "set1.union(17)\n",
    "\n"
   ]
  },
  {
   "cell_type": "code",
   "execution_count": 194,
   "metadata": {},
   "outputs": [
    {
     "data": {
      "text/plain": [
       "[500, 400, 300, 200, 100]"
      ]
     },
     "execution_count": 194,
     "metadata": {},
     "output_type": "execute_result"
    }
   ],
   "source": [
    "list1 = [100, 200, 300, 400, 500]\n",
    "list1[::-1]"
   ]
  },
  {
   "cell_type": "code",
   "execution_count": 213,
   "metadata": {},
   "outputs": [
    {
     "name": "stdout",
     "output_type": "stream",
     "text": [
      "['My', 'name', 'is', 'Kelly']\n"
     ]
    }
   ],
   "source": [
    "list2 = [\"M\", \"na\", \"i\", \"Ke\"]\n",
    "list3 = [\"y\", \"me\", \"s\", \"lly\"]\n",
    "list4=[i+j for i,j in zip(list2,list3)]\n",
    "print(list4)\n"
   ]
  },
  {
   "cell_type": "code",
   "execution_count": 214,
   "metadata": {},
   "outputs": [
    {
     "name": "stdout",
     "output_type": "stream",
     "text": [
      "4\n"
     ]
    }
   ],
   "source": [
    "x=\"vaibhav\"\n",
    "res=x.index(\"h\")\n",
    "print(res)\n"
   ]
  },
  {
   "cell_type": "code",
   "execution_count": 226,
   "metadata": {},
   "outputs": [
    {
     "name": "stdout",
     "output_type": "stream",
     "text": [
      "[1, 4, 9, 16, 25, 36, 49]\n"
     ]
    }
   ],
   "source": [
    "numbers = [1, 2, 3, 4, 5, 6, 7]\n",
    "squared_numbers=[]\n",
    "for x in numbers:\n",
    "    squared_numbers.append(x**2)\n",
    "print(squared_numbers)\n",
    "\n"
   ]
  },
  {
   "cell_type": "code",
   "execution_count": 234,
   "metadata": {},
   "outputs": [
    {
     "name": "stdout",
     "output_type": "stream",
     "text": [
      "['Hello Dear', 'Hello Sir', 'take Dear', 'take Sir']\n"
     ]
    }
   ],
   "source": [
    "list13 = [\"Hello \", \"take \"]\n",
    "list14 = [\"Dear\", \"Sir\"]\n",
    "res = [x + y for x in list13 for y in list14]\n",
    "print(res)"
   ]
  },
  {
   "cell_type": "code",
   "execution_count": 250,
   "metadata": {},
   "outputs": [
    {
     "name": "stdout",
     "output_type": "stream",
     "text": [
      "{10: 100, 20: 200, 30: 300, 40: 400}\n"
     ]
    }
   ],
   "source": [
    "list1 = [10, 20, 30, 40]\n",
    "list2 = [100, 200, 300, 400]\n",
    "list3=dict(zip(list1,list2))\n",
    "print(list3,sep=\"\\n\")"
   ]
  },
  {
   "cell_type": "code",
   "execution_count": 5,
   "metadata": {},
   "outputs": [
    {
     "name": "stdout",
     "output_type": "stream",
     "text": [
      "{1, 'a', 3, 23}\n"
     ]
    }
   ],
   "source": [
    "set1={1,23,3}\n",
    "type(set1)\n",
    "set1.add('a')\n",
    "print(set1)"
   ]
  },
  {
   "cell_type": "code",
   "execution_count": 6,
   "metadata": {},
   "outputs": [
    {
     "name": "stdout",
     "output_type": "stream",
     "text": [
      "['My', 'name', 'is', 'Kelly']\n"
     ]
    }
   ],
   "source": [
    "def add_lists_index_wise(list1, list2):\n",
    "    # Find the length of the longer list\n",
    "    max_length = max(len(list1), len(list2))\n",
    "    \n",
    "    # Initialize the result list\n",
    "    result = []\n",
    "    \n",
    "    # Iterate through the indexes of the longest list\n",
    "    for i in range(max_length):\n",
    "        # Initialize an empty string to accumulate the characters\n",
    "        combined = \"\"\n",
    "        \n",
    "        # Add element from list1 if index exists\n",
    "        if i < len(list1):\n",
    "            combined += list1[i]\n",
    "        \n",
    "        # Add element from list2 if index exists\n",
    "        if i < len(list2):\n",
    "            combined += list2[i]\n",
    "        \n",
    "        # Append the combined result to the result list\n",
    "        result.append(combined)\n",
    "    \n",
    "    return result\n",
    "\n",
    "# Given lists\n",
    "list1 = [\"M\", \"na\", \"i\", \"Ke\"]\n",
    "list2 = [\"y\", \"me\", \"s\", \"lly\"]\n",
    "\n",
    "# Call the function and print the result\n",
    "result_list = add_lists_index_wise(list1, list2)\n",
    "print(result_list)"
   ]
  }
 ],
 "metadata": {
  "kernelspec": {
   "display_name": "Python 3",
   "language": "python",
   "name": "python3"
  },
  "language_info": {
   "codemirror_mode": {
    "name": "ipython",
    "version": 3
   },
   "file_extension": ".py",
   "mimetype": "text/x-python",
   "name": "python",
   "nbconvert_exporter": "python",
   "pygments_lexer": "ipython3",
   "version": "3.12.3"
  }
 },
 "nbformat": 4,
 "nbformat_minor": 2
}
