{
 "cells": [
  {
   "cell_type": "code",
   "execution_count": 1,
   "metadata": {},
   "outputs": [],
   "source": [
    "import re"
   ]
  },
  {
   "cell_type": "code",
   "execution_count": 71,
   "metadata": {},
   "outputs": [
    {
     "name": "stdout",
     "output_type": "stream",
     "text": [
      "['variable1']\n",
      "['my_variable']\n",
      "['_privateVariable']\n",
      "['var123']\n",
      "['longVariableName']\n",
      "['variable']\n",
      "['my', 'variable']\n",
      "['variable']\n",
      "['var', ' 123']\n"
     ]
    }
   ],
   "source": [
    "variable_names = [\"variable1\", \"my_variable\", \"_privateVariable\", \"var123\", \"longVariableName\", \"1variable\", \"my-variable\", \"variable!\", \"var 123\"]\n",
    "\n",
    "for i in variable_names:\n",
    "    vishal=re.findall('[^0-9:\"-@#$%]''[_a-zA-Z0-9]*''[^ $@#!-]',i)\n",
    "    print(vishal)"
   ]
  },
  {
   "cell_type": "code",
   "execution_count": 72,
   "metadata": {},
   "outputs": [],
   "source": [
    "s='andgfdjsakdba_sjh13418n3518n@#lahdnanhsdi__nwqejdwn67128nsaajdasnasndsanfajsdfkas----$$$$$*****dnbanf'"
   ]
  }
 ],
 "metadata": {
  "kernelspec": {
   "display_name": "base",
   "language": "python",
   "name": "python3"
  },
  "language_info": {
   "codemirror_mode": {
    "name": "ipython",
    "version": 3
   },
   "file_extension": ".py",
   "mimetype": "text/x-python",
   "name": "python",
   "nbconvert_exporter": "python",
   "pygments_lexer": "ipython3",
   "version": "3.11.7"
  }
 },
 "nbformat": 4,
 "nbformat_minor": 2
}
